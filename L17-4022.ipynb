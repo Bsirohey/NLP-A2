{
 "cells": [
  {
   "cell_type": "code",
   "execution_count": null,
   "metadata": {},
   "outputs": [],
   "source": [
    "#17L-4022 Basim Ahmad Sirohey\n",
    "#NLP Assignment #2"
   ]
  },
  {
   "cell_type": "code",
   "execution_count": 67,
   "metadata": {},
   "outputs": [],
   "source": [
    "import re\n",
    "import math \n",
    "\n",
    "# load training data\n",
    "filename = 'Train-perplexity.txt'\n",
    "file = open(filename, 'rt')\n",
    "text = file.read()\n",
    "text =text.lower() #change all to lowercase\n",
    "file.close()"
   ]
  },
  {
   "cell_type": "code",
   "execution_count": null,
   "metadata": {},
   "outputs": [],
   "source": [
    "#remove punctuation from text\n",
    "data = re.sub(r'[^\\w\\s]', '', text)\n",
    "print(data)"
   ]
  },
  {
   "cell_type": "code",
   "execution_count": 69,
   "metadata": {},
   "outputs": [],
   "source": [
    "#making uni-grams\n",
    "unigram = data.split()\n",
    "#print(unigram)\n",
    "\n",
    "#making bi-grams\n",
    "bigram = []\n",
    "for x in range(len(unigram)-1):\n",
    "    bigram.append(unigram[x]+' '+unigram[x+1])\n",
    "#print(bigram)\n",
    "\n",
    "#making tri-grams\n",
    "trigram = []\n",
    "for x in range(len(unigram)-2):\n",
    "    trigram.append(unigram[x]+ ' '+unigram[x+1]+ ' '+unigram[x+2]) \n",
    "#print(trigram)   "
   ]
  },
  {
   "cell_type": "code",
   "execution_count": 70,
   "metadata": {},
   "outputs": [],
   "source": [
    "def Counter(ngram):\n",
    "    return{x:ngram.count(x) for x in ngram}"
   ]
  },
  {
   "cell_type": "code",
   "execution_count": 71,
   "metadata": {},
   "outputs": [],
   "source": [
    "#taking count of each unique n-gram\n",
    "uniCount = Counter(unigram)\n",
    "#print(uniCount)\n",
    "\n",
    "biCount = Counter(bigram)\n",
    "#print(biCount)\n",
    "\n",
    "triCount = Counter(trigram)\n",
    "#print(triCount)"
   ]
  },
  {
   "cell_type": "code",
   "execution_count": null,
   "metadata": {},
   "outputs": [],
   "source": [
    "#calculating probabilities\n",
    "\n",
    "total = len(unigram)\n",
    "\n",
    "uniProb = dict()\n",
    "for x in unigram:\n",
    "    uniProb[x] = (uniCount[x]/total)     #count of token/word count\n",
    "\n",
    "biProb = dict()\n",
    "for x in range(len(bigram)):\n",
    "    numerator = biCount[bigram[x]]\n",
    "    denominator = uniCount[unigram[x]]\n",
    "    biProb[bigram[x]]=(numerator/denominator) # count of w1,w2/count of w1\n",
    "\n",
    "\n",
    "\n",
    "triProb =dict()\n",
    "for x in range(len(trigram)):\n",
    "    numerator =triCount[trigram[x]]\n",
    "    denominator = biCount[bigram[x]]\n",
    "    triProb[trigram[x]]=(numerator/denominator) #count of w1,w2,w3/ count of w1,w2\n"
   ]
  },
  {
   "cell_type": "code",
   "execution_count": 110,
   "metadata": {},
   "outputs": [],
   "source": [
    "#load test data\n",
    "filename2 = 'Train-perplexity.txt'\n",
    "file2 = open(filename, 'rt')\n",
    "text2 = file2.read()\n",
    "text2 =text.lower() #change all to lowercase\n",
    "file2.close()"
   ]
  },
  {
   "cell_type": "code",
   "execution_count": 107,
   "metadata": {},
   "outputs": [],
   "source": [
    "#remove punctuation from text\n",
    "test_data = re.sub(r'[^\\w\\s]', '', text)\n"
   ]
  },
  {
   "cell_type": "code",
   "execution_count": null,
   "metadata": {},
   "outputs": [],
   "source": [
    "test_unigram = test_data.split()\n",
    "\n",
    "test_bigram = []\n",
    "for x in range(len(test_unigram)-1):\n",
    "    bigram.append(test_unigram[x]+' '+test_unigram[x+1])\n",
    "\n",
    "test_trigram = []\n",
    "for x in range(len(unigram)-2):\n",
    "    trigram.append(test_unigram[x]+ ' '+test_unigram[x+1]+ ' '+test_unigram[x+2]) \n",
    "    \n",
    "count_test_unigram = len"
   ]
  },
  {
   "cell_type": "code",
   "execution_count": null,
   "metadata": {},
   "outputs": [],
   "source": [
    "def perplexity_calculator(test_ngram,ngram,probability,count):\n",
    "    perplexity = 0\n",
    "    for x in test_ngram:\n",
    "        if x in ngram:\n",
    "            "
   ]
  }
 ],
 "metadata": {
  "interpreter": {
   "hash": "63fd5069d213b44bf678585dea6b12cceca9941eaf7f819626cde1f2670de90d"
  },
  "kernelspec": {
   "display_name": "Python 3.9.1 64-bit",
   "language": "python",
   "name": "python3"
  },
  "language_info": {
   "codemirror_mode": {
    "name": "ipython",
    "version": 3
   },
   "file_extension": ".py",
   "mimetype": "text/x-python",
   "name": "python",
   "nbconvert_exporter": "python",
   "pygments_lexer": "ipython3",
   "version": "3.8.0"
  },
  "orig_nbformat": 4
 },
 "nbformat": 4,
 "nbformat_minor": 2
}
